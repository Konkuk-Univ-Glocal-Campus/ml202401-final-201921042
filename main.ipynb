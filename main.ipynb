{
 "cells": [
  {
   "cell_type": "markdown",
   "metadata": {},
   "source": [
    "1. __데이터__"
   ]
  },
  {
   "cell_type": "markdown",
   "metadata": {},
   "source": [
    "- wine_review.csv 파일 분석"
   ]
  },
  {
   "cell_type": "markdown",
   "metadata": {},
   "source": [
    "2. __데이터 전처리__"
   ]
  },
  {
   "cell_type": "markdown",
   "metadata": {},
   "source": [
    "- 데이터 정리"
   ]
  },
  {
   "cell_type": "code",
   "execution_count": 16,
   "metadata": {},
   "outputs": [
    {
     "name": "stdout",
     "output_type": "stream",
     "text": [
      "                     id asins            brand  \\\n",
      "0  AV13ClKCGV-KLJ3akN68   NaN            Gallo   \n",
      "1  AV13CsvW-jtxr-f38AQO   NaN  Fresh Craft Co.   \n",
      "2  AV13CVI_glJLPUi8O7Po   NaN     1000 Stories   \n",
      "3  AV13CVI_glJLPUi8O7Po   NaN     1000 Stories   \n",
      "4  AV13CYL4-jtxr-f37_-t   NaN     Wine Cube153   \n",
      "\n",
      "                                          categories             dateAdded  \\\n",
      "0  Food & Beverage,Beverages,Wine, Beer & Liquor,...  2017-07-24T23:59:11Z   \n",
      "1  Food & Beverage,Beverages,Wine, Beer & Liquor,...  2017-07-24T23:59:42Z   \n",
      "2  Food & Beverage,Beverages,Wine, Beer & Liquor,...  2017-07-24T23:58:05Z   \n",
      "3  Food & Beverage,Beverages,Wine, Beer & Liquor,...  2017-07-24T23:58:05Z   \n",
      "4  Food & Beverage,Beverages,Wine, Beer & Liquor,...  2017-07-24T23:58:18Z   \n",
      "\n",
      "            dateUpdated                                       descriptions  \\\n",
      "0  2018-01-10T18:06:28Z                                                NaN   \n",
      "1  2018-01-10T05:38:33Z  [{\"dateSeen\":[\"2017-12-21T05:43:00.000Z\",\"2017...   \n",
      "2  2018-01-10T05:38:31Z                                                NaN   \n",
      "3  2018-01-10T05:38:31Z                                                NaN   \n",
      "4  2018-01-10T18:06:29Z  [{\"dateSeen\":[\"2017-12-21T05:43:00.000Z\",\"2017...   \n",
      "\n",
      "                     dimension  ean flavors  ...  \\\n",
      "0     1.0 in x 1.0 in x 1.0 in  NaN     NaN  ...   \n",
      "1  4.25 in x 4.25 in x 5.25 in  NaN     NaN  ...   \n",
      "2   3.3 in x 3.3 in x 11.79 in  NaN     NaN  ...   \n",
      "3   3.3 in x 3.3 in x 11.79 in  NaN     NaN  ...   \n",
      "4     1.0 in x 1.0 in x 1.0 in  NaN     NaN  ...   \n",
      "\n",
      "                                  reviews.sourceURLs  \\\n",
      "0  https://redsky.target.com/groot-domain-api/v1/...   \n",
      "1  https://redsky.target.com/groot-domain-api/v1/...   \n",
      "2  https://redsky.target.com/groot-domain-api/v1/...   \n",
      "3  https://redsky.target.com/groot-domain-api/v1/...   \n",
      "4  https://redsky.target.com/groot-domain-api/v1/...   \n",
      "\n",
      "                                        reviews.text  \\\n",
      "0      This a fantastic white wine for any occasion!   \n",
      "1   Tart, not sweet...very refreshing and delicious!   \n",
      "2  I was given this wine so it was a delightful s...   \n",
      "3  This is a phenomenal wine and my new favorite ...   \n",
      "4  4 750ml bottles for the price of two With way ...   \n",
      "\n",
      "                          reviews.title reviews.userCity reviews.userProvince  \\\n",
      "0                My Favorite White Wine              NaN                  NaN   \n",
      "1                                 Yum!!              NaN                  NaN   \n",
      "2                       A New Favorite!              NaN                  NaN   \n",
      "3  Bold, Flavorful, Aromatic, Delicious              NaN                  NaN   \n",
      "4  Yum! Plus, Environmentally Friendly!    Overland Park                  NaN   \n",
      "\n",
      "  reviews.username sizes                                         sourceURLs  \\\n",
      "0              Bjh   NaN  http://redsky.target.com/v1/plp/search?kwr=y&c...   \n",
      "1             Wino   NaN  http://redsky.target.com/v1/plp/search?kwr=y&c...   \n",
      "2         Bama Mom   NaN  http://redsky.target.com/v1/plp/search?kwr=y&c...   \n",
      "3           Av Dub   NaN  http://redsky.target.com/v1/plp/search?kwr=y&c...   \n",
      "4       Chelseamay   NaN  https://redsky.target.com/groot-domain-api/v1/...   \n",
      "\n",
      "           upc    weight  \n",
      "0   4.9213E+11   1.0 lbs  \n",
      "1  83120003441  2.45 lbs  \n",
      "2  82896001453  3.09 lbs  \n",
      "3  82896001453  3.09 lbs  \n",
      "4  85200600465   1.0 lbs  \n",
      "\n",
      "[5 rows x 32 columns]\n",
      "<class 'pandas.core.frame.DataFrame'>\n",
      "RangeIndex: 2890 entries, 0 to 2889\n",
      "Data columns (total 32 columns):\n",
      " #   Column                Non-Null Count  Dtype  \n",
      "---  ------                --------------  -----  \n",
      " 0   id                    2890 non-null   object \n",
      " 1   asins                 870 non-null    object \n",
      " 2   brand                 2825 non-null   object \n",
      " 3   categories            2890 non-null   object \n",
      " 4   dateAdded             2890 non-null   object \n",
      " 5   dateUpdated           2890 non-null   object \n",
      " 6   descriptions          2738 non-null   object \n",
      " 7   dimension             1838 non-null   object \n",
      " 8   ean                   2166 non-null   object \n",
      " 9   flavors               151 non-null    object \n",
      " 10  keys                  2890 non-null   object \n",
      " 11  manufacturer          849 non-null    object \n",
      " 12  manufacturerNumber    2457 non-null   object \n",
      " 13  name                  2890 non-null   object \n",
      " 14  reviews.date          2552 non-null   object \n",
      " 15  reviews.dateAdded     2890 non-null   object \n",
      " 16  reviews.dateSeen      2890 non-null   object \n",
      " 17  reviews.didPurchase   2049 non-null   object \n",
      " 18  reviews.doRecommend   1911 non-null   object \n",
      " 19  reviews.id            1885 non-null   float64\n",
      " 20  reviews.numHelpful    626 non-null    float64\n",
      " 21  reviews.rating        2445 non-null   float64\n",
      " 22  reviews.sourceURLs    2890 non-null   object \n",
      " 23  reviews.text          2889 non-null   object \n",
      " 24  reviews.title         2846 non-null   object \n",
      " 25  reviews.userCity      82 non-null     object \n",
      " 26  reviews.userProvince  9 non-null      object \n",
      " 27  reviews.username      2888 non-null   object \n",
      " 28  sizes                 22 non-null     object \n",
      " 29  sourceURLs            2890 non-null   object \n",
      " 30  upc                   2743 non-null   object \n",
      " 31  weight                996 non-null    object \n",
      "dtypes: float64(3), object(29)\n",
      "memory usage: 722.6+ KB\n",
      "None\n"
     ]
    },
    {
     "name": "stderr",
     "output_type": "stream",
     "text": [
      "[nltk_data] Downloading package stopwords to\n",
      "[nltk_data]     C:\\Users\\SH\\AppData\\Roaming\\nltk_data...\n",
      "[nltk_data]   Package stopwords is already up-to-date!\n",
      "[nltk_data] Downloading package vader_lexicon to\n",
      "[nltk_data]     C:\\Users\\SH\\AppData\\Roaming\\nltk_data...\n",
      "[nltk_data]   Package vader_lexicon is already up-to-date!\n",
      "[nltk_data] Downloading package wordnet to\n",
      "[nltk_data]     C:\\Users\\SH\\AppData\\Roaming\\nltk_data...\n",
      "[nltk_data]   Package wordnet is already up-to-date!\n",
      "[nltk_data] Downloading package punkt to\n",
      "[nltk_data]     C:\\Users\\SH\\AppData\\Roaming\\nltk_data...\n",
      "[nltk_data]   Package punkt is already up-to-date!\n"
     ]
    }
   ],
   "source": [
    "import pandas as pd\n",
    "import re\n",
    "import nltk\n",
    "from sklearn.model_selection import train_test_split\n",
    "from nltk.sentiment.vader import SentimentIntensityAnalyzer\n",
    "from sklearn.metrics import accuracy_score, classification_report, confusion_matrix, roc_curve, auc\n",
    "import matplotlib.pyplot as plt\n",
    "import seaborn as sns\n",
    "import pandas as pd\n",
    "\n",
    "# NLTK 불용어 리스트 다운로드\n",
    "nltk.download('stopwords')\n",
    "nltk.download('vader_lexicon')\n",
    "nltk.download('wordnet')\n",
    "nltk.download('punkt')\n",
    "\n",
    "from nltk.corpus import stopwords\n",
    "from nltk.stem import WordNetLemmatizer\n",
    "from nltk.sentiment.vader import SentimentIntensityAnalyzer\n",
    "\n",
    "# CSV 파일 로드\n",
    "df = pd.read_csv('./wine_review.csv')\n",
    "\n",
    "# 데이터 확인\n",
    "print(df.head())\n",
    "print(df.info())\n",
    "\n",
    "# 필요한 열만 남기고 나머지 열 삭제\n",
    "df = df[['reviews.text']]\n",
    "\n",
    "# 특정 열에서 결측값이 있는 행 제거\n",
    "df = df.dropna(subset=['reviews.text']).drop_duplicates()"
   ]
  },
  {
   "cell_type": "markdown",
   "metadata": {},
   "source": [
    "- 텍스트 토큰화 및 불용어 제거"
   ]
  },
  {
   "cell_type": "code",
   "execution_count": 17,
   "metadata": {},
   "outputs": [],
   "source": [
    "from nltk.tokenize import word_tokenize, sent_tokenize\n",
    "\n",
    "# 텍스트 전처리 함수\n",
    "def clean_text(text):\n",
    "    text = re.sub(r'\\d+', '', text)  # 숫자 제거\n",
    "    text = re.sub(r'[^\\w\\s]', '', text)  # 특수 문자 및 구두점 제거\n",
    "    text = text.lower()  # 소문자로 변환\n",
    "    tokens = word_tokenize(text) # 토큰화\n",
    "    tokens = [word for word in tokens if word not in stop_words]\n",
    "    return tokens\n",
    "\n",
    "# 토큰화 및 불용어 제거 적용\n",
    "df['tokenized_text'] = df['reviews.text'].apply(clean_text)"
   ]
  },
  {
   "cell_type": "markdown",
   "metadata": {},
   "source": [
    "- 텍스트 정규화 (표제어 추출)"
   ]
  },
  {
   "cell_type": "code",
   "execution_count": 19,
   "metadata": {},
   "outputs": [
    {
     "name": "stderr",
     "output_type": "stream",
     "text": [
      "[nltk_data] Downloading package wordnet to\n",
      "[nltk_data]     C:\\Users\\SH\\AppData\\Roaming\\nltk_data...\n",
      "[nltk_data]   Package wordnet is already up-to-date!\n"
     ]
    }
   ],
   "source": [
    "from nltk.tokenize import word_tokenize, sent_tokenize\n",
    "\n",
    "# 표제어 추출\n",
    "nltk.download('wordnet')\n",
    "lemmatizer = WordNetLemmatizer()\n",
    "df['processed_text'] = df['tokenized_text'].apply(lambda tokens: ' '.join([lemmatizer.lemmatize(token) for token in tokens]))"
   ]
  },
  {
   "cell_type": "markdown",
   "metadata": {},
   "source": [
    "3. __모델 구현__"
   ]
  },
  {
   "cell_type": "code",
   "execution_count": 20,
   "metadata": {},
   "outputs": [
    {
     "name": "stderr",
     "output_type": "stream",
     "text": [
      "[nltk_data] Downloading package vader_lexicon to\n",
      "[nltk_data]     C:\\Users\\SH\\AppData\\Roaming\\nltk_data...\n",
      "[nltk_data]   Package vader_lexicon is already up-to-date!\n"
     ]
    }
   ],
   "source": [
    "import nltk\n",
    "from nltk.sentiment.vader import SentimentIntensityAnalyzer\n",
    "\n",
    "# NLTK 리소스 다운로드\n",
    "nltk.download('vader_lexicon')\n",
    "\n",
    "# VADER 감성 분석기 초기화\n",
    "vader_sentiment = SentimentIntensityAnalyzer()\n",
    "\n",
    "# 감성 점수 계산 함수\n",
    "def get_vader_sentiment(text):\n",
    "    sentiment = vader_sentiment.polarity_scores(text)\n",
    "    return sentiment['compound']\n"
   ]
  },
  {
   "cell_type": "markdown",
   "metadata": {},
   "source": [
    "4. __모델 학습 및 튜닝__"
   ]
  },
  {
   "cell_type": "code",
   "execution_count": 22,
   "metadata": {},
   "outputs": [],
   "source": [
    "# 리뷰 텍스트에 대해 감성 점수 계산\n",
    "df['sentiment_score'] = df['processed_text'].apply(get_vader_sentiment)\n",
    "\n",
    "# 감성 점수를 이진 레이블로 변환 (긍정적/부정적)\n",
    "df['sentiment'] = df['sentiment_score'].apply(lambda x: 1 if x >= 0 else 0)\n",
    "\n",
    "# 데이터셋을 학습 및 테스트 세트로 분할\n",
    "X_train, X_test, y_train, y_test = train_test_split(df['reviews.text'], df['sentiment'], test_size=0.2, random_state=42)"
   ]
  },
  {
   "cell_type": "markdown",
   "metadata": {},
   "source": [
    "5. __모델 평가__"
   ]
  },
  {
   "cell_type": "code",
   "execution_count": 25,
   "metadata": {},
   "outputs": [
    {
     "name": "stdout",
     "output_type": "stream",
     "text": [
      "Train Accuracy: 0.9524509803921568\n",
      "Test Accuracy: 0.9431372549019608\n",
      "Classification Report (Test Data):\n",
      "              precision    recall  f1-score   support\n",
      "\n",
      "           0       0.65      0.72      0.68        43\n",
      "           1       0.97      0.96      0.97       467\n",
      "\n",
      "    accuracy                           0.94       510\n",
      "   macro avg       0.81      0.84      0.83       510\n",
      "weighted avg       0.95      0.94      0.94       510\n",
      "\n",
      "Confusion Matrix (Test Data):\n",
      "[[ 31  12]\n",
      " [ 17 450]]\n"
     ]
    }
   ],
   "source": [
    "# 학습 세트에 대한 예측\n",
    "y_train_pred = X_train.apply(get_vader_sentiment).apply(lambda x: 1 if x >= 0 else 0)\n",
    "y_test_pred = X_test.apply(get_vader_sentiment).apply(lambda x: 1 if x >= 0 else 0)\n",
    "\n",
    "# 정확도 및 분류 보고서\n",
    "train_accuracy = accuracy_score(y_train, y_train_pred)\n",
    "test_accuracy = accuracy_score(y_test, y_test_pred)\n",
    "\n",
    "print(f'Train Accuracy: {train_accuracy}')\n",
    "print(f'Test Accuracy: {test_accuracy}')\n",
    "\n",
    "print('Classification Report (Test Data):')\n",
    "print(classification_report(y_test, y_test_pred))\n",
    "\n",
    "print('Confusion Matrix (Test Data):')\n",
    "conf_matrix = confusion_matrix(y_test, y_test_pred)\n",
    "print(conf_matrix)"
   ]
  },
  {
   "cell_type": "markdown",
   "metadata": {},
   "source": [
    "6. __시각화__"
   ]
  },
  {
   "cell_type": "code",
   "execution_count": 26,
   "metadata": {},
   "outputs": [
    {
     "data": {
      "image/png": "[encoded data removed]",
      "text/plain": [
       "<Figure size 800x600 with 2 Axes>"
      ]
     },
     "metadata": {},
     "output_type": "display_data"
    },
    {
     "data": {
      "image/png": "[encoded data removed]",
      "text/plain": [
       "<Figure size 640x480 with 1 Axes>"
      ]
     },
     "metadata": {},
     "output_type": "display_data"
    }
   ],
   "source": [
    "# 혼동 행렬 시각화 함수\n",
    "def plot_confusion_matrix(conf_matrix, title):\n",
    "    plt.figure(figsize=(8, 6))\n",
    "    sns.heatmap(conf_matrix, annot=True, fmt='d', cmap='Blues', xticklabels=['Negative', 'Positive'], yticklabels=['Negative', 'Positive'])\n",
    "    plt.title(title)\n",
    "    plt.xlabel('Predicted')\n",
    "    plt.ylabel('Actual')\n",
    "    plt.show()\n",
    "\n",
    "# 혼동 행렬 시각화\n",
    "plot_confusion_matrix(conf_matrix, 'Confusion Matrix (VADER Model)')\n",
    "\n",
    "# ROC 곡선 및 AUC\n",
    "y_test_proba = [vader_sentiment.polarity_scores(text)['compound'] for text in X_test]\n",
    "fpr, tpr, _ = roc_curve(y_test, y_test_proba)\n",
    "roc_auc = auc(fpr, tpr)\n",
    "\n",
    "plt.figure()\n",
    "plt.plot(fpr, tpr, color='darkorange', lw=2, label=f'ROC curve (area = {roc_auc:0.2f})')\n",
    "plt.plot([0, 1], [0, 1], color='navy', lw=2, linestyle='--')\n",
    "plt.xlim([0.0, 1.0])\n",
    "plt.ylim([0.0, 1.05])\n",
    "plt.xlabel('False Positive Rate')\n",
    "plt.ylabel('True Positive Rate')\n",
    "plt.title('Receiver Operating Characteristic')\n",
    "plt.legend(loc='lower right')\n",
    "plt.show()\n"
   ]
  }
 ],
 "metadata": {
  "kernelspec": {
   "display_name": "Python 3",
   "language": "python",
   "name": "python3"
  },
  "language_info": {
   "codemirror_mode": {
    "name": "ipython",
    "version": 3
   },
   "file_extension": ".py",
   "mimetype": "text/x-python",
   "name": "python",
   "nbconvert_exporter": "python",
   "pygments_lexer": "ipython3",
   "version": "3.12.2"
  }
 },
 "nbformat": 4,
 "nbformat_minor": 2
}
